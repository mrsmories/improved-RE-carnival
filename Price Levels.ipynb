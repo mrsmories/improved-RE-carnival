{
 "cells": [
  {
   "cell_type": "code",
   "execution_count": 1,
   "id": "2c36cf72-341d-4471-9326-f76057dbecff",
   "metadata": {},
   "outputs": [
    {
     "ename": "ModuleNotFoundError",
     "evalue": "No module named 'kagglehub'",
     "output_type": "error",
     "traceback": [
      "\u001b[1;31m---------------------------------------------------------------------------\u001b[0m",
      "\u001b[1;31mModuleNotFoundError\u001b[0m                       Traceback (most recent call last)",
      "Cell \u001b[1;32mIn[1], line 1\u001b[0m\n\u001b[1;32m----> 1\u001b[0m \u001b[38;5;28;01mimport\u001b[39;00m\u001b[38;5;250m \u001b[39m\u001b[38;5;21;01mkagglehub\u001b[39;00m\n\u001b[0;32m      2\u001b[0m \u001b[38;5;28;01mimport\u001b[39;00m\u001b[38;5;250m \u001b[39m\u001b[38;5;21;01mpandas\u001b[39;00m\u001b[38;5;250m \u001b[39m\u001b[38;5;28;01mas\u001b[39;00m\u001b[38;5;250m \u001b[39m\u001b[38;5;21;01mpd\u001b[39;00m\n\u001b[0;32m      3\u001b[0m \u001b[38;5;28;01mimport\u001b[39;00m\u001b[38;5;250m \u001b[39m\u001b[38;5;21;01mnumpy\u001b[39;00m\u001b[38;5;250m \u001b[39m\u001b[38;5;28;01mas\u001b[39;00m\u001b[38;5;250m \u001b[39m\u001b[38;5;21;01mnp\u001b[39;00m\n",
      "\u001b[1;31mModuleNotFoundError\u001b[0m: No module named 'kagglehub'"
     ]
    }
   ],
   "source": [
    "import kagglehub\n",
    "import pandas as pd\n",
    "import numpy as np\n",
    "import seaborn as sns\n",
    "import matplotlib.pyplot as plt"
   ]
  },
  {
   "cell_type": "code",
   "execution_count": null,
   "id": "7d057273-6068-46fc-a45e-56303abd027b",
   "metadata": {},
   "outputs": [],
   "source": [
    "\n",
    "FILE_PATH = r\"C:\\Users\\mrsmo\\.cache\\kagglehub\\datasets\\omniamahmoudsaeed\\real-estate-sales-2001-2022\\versions\\1\\Real_Estate_Sales_2001-2022_GL.csv\"\n",
    "\n",
    "# Read the CSV\n",
    "df = pd.read_csv(\n",
    "    FILE_PATH,\n",
    "    parse_dates=[\"Date Recorded\"],  # Parse this column as datetime\n",
    "    low_memory=False                 # Prevent dtype guessing issues on large files\n",
    ")\n",
    "\n",
    "# ====================================================\n",
    "# 4. Convert Columns to Category Type\n",
    "# ====================================================\n",
    "cat_columns = [\"List Year\", \"Property Type\", \"Residential Type\", \"Town\"]\n",
    "df[cat_columns] = df[cat_columns].astype(\"category\")\n",
    "\n",
    "# ====================================================\n",
    "# 5. Clean Up Sales Ratio Column (Remove Known Outliers)\n",
    "# ====================================================\n",
    "BAD_SALES_RATIO_INDICES = [\n",
    "    400223, 387198, 756066, 517857, 950063, 953854, 1076552, 610694, 514136, 395137, 393010, 390655,\n",
    "    247298, 417869, 474399, 221364, 478279, 251354, 423895, 433617, 863110, 134811, 397613, 479568, 666388, 811579, 413974,\n",
    "    55055, 270157, 480988, 482770, 271053, 274878, 312695, 353650, 361096, 381148, 384550, 705544, 740634, 750658, \n",
    "    466006, 671159, 477350, 457875, 460176, 402630, 339155, 411821, 411133, 91602, 92379, 92547, 92576, 93312, 93480, 93922,\n",
    "    93958, 94517, 94557, 94807, 95881, 95920, 96250, 98359, 97738, 96673, 96280, 100898, 100500, 98910, 98664, 102937, 101464, 101250, 103665, \n",
    "    105660, 108030, 108015, 107930, 107604, 107292, 1096079, 1096037, 1095863, 1089984, 1090576, 1091434, 1092817, 1093416,\n",
    "    1094013, 1094167, 1097459\n",
    "]\n",
    "\n",
    "# Replace bad Sales Ratio values with NaN\n",
    "df.loc[BAD_SALES_RATIO_INDICES, \"Sales Ratio\"] = np.nan\n",
    "\n",
    "\n",
    "pd.set_option(\"display.max_rows\", None)\n",
    "df.head()\n"
   ]
  },
  {
   "cell_type": "code",
   "execution_count": null,
   "id": "e10cdba4-9569-4c80-b86f-13e2b8d2646c",
   "metadata": {},
   "outputs": [],
   "source": [
    "#towns that still had sales ratios from 20 and over were excluded because the sales prices\n",
    "#that cause such disproportionate sales ratios are alost always under $300,000 when people sell partial ownerships\n",
    "#and it affects the lowest category\n",
    "#towns_to_exclude = [\"Stafford\", \"East Hartford\", \"Farmington\", \"East Haven\"]\n",
    "\n",
    "#df = df[~df[\"Town\"].isin(towns_to_exclude)]\n",
    "\n",
    "# Drop them from the category list too\n",
    "#df[\"Town\"] = df[\"Town\"].cat.remove_unused_categories()\n"
   ]
  },
  {
   "cell_type": "code",
   "execution_count": null,
   "id": "6439f799-097c-42f5-8ea7-20e44b4c8650",
   "metadata": {},
   "outputs": [],
   "source": [
    "#can be used to filter out all low sales \n",
    "#df = df[df[\"Sale Amount\"] >= 20_000]\n"
   ]
  },
  {
   "cell_type": "code",
   "execution_count": null,
   "id": "1211e2c5-8029-4844-9e59-3b5ae76865c3",
   "metadata": {},
   "outputs": [],
   "source": [
    "# Define bin edges\n",
    "df = df[df[\"Sale Amount\"] >= 20_000].copy()\n",
    "bins = [20_000, 300_000, 700_000, 1_000_000, float(\"inf\")]\n",
    "\n",
    "# Define bin labels\n",
    "labels = [\"Under $300k\", \"Mid\", \"$700k-$1M\", \"Luxury\"]\n",
    "# Create new column\n",
    "df[\"Sale Price Group\"] = pd.cut(\n",
    "    df[\"Sale Amount\"],\n",
    "    bins=bins,\n",
    "    labels=labels,\n",
    "    right=False  # means \"less than\" on the upper bound\n",
    ")\n",
    "\n",
    "# Preview result\n",
    "df[[\"Sale Amount\", \"Sale Price Group\"]].head()\n"
   ]
  },
  {
   "cell_type": "code",
   "execution_count": null,
   "id": "9f71669c-e71e-4365-941f-3dc01ea4e758",
   "metadata": {},
   "outputs": [],
   "source": []
  },
  {
   "cell_type": "code",
   "execution_count": null,
   "id": "735123ce-168a-43cf-a311-4a4171b5890a",
   "metadata": {},
   "outputs": [],
   "source": [
    "df.groupby(\"Sale Price Group\")[\"Sales Ratio\"].mean()\n"
   ]
  },
  {
   "cell_type": "code",
   "execution_count": null,
   "id": "3de771d3-5cd5-4b08-9536-e880c6235892",
   "metadata": {},
   "outputs": [],
   "source": []
  },
  {
   "cell_type": "code",
   "execution_count": null,
   "id": "a7690bb3-f978-4718-a283-8d7945b0abe7",
   "metadata": {},
   "outputs": [],
   "source": []
  },
  {
   "cell_type": "code",
   "execution_count": null,
   "id": "ced0d513-5345-4be1-82ed-7591ada61761",
   "metadata": {},
   "outputs": [],
   "source": [
    "#town = df.groupby(\"Town\")\n",
    "#sales_df = town[\"Sales Ratio\"].mean().reset_index()\n",
    "#sales_df.columns = [\"Town\", \"Avg_Sales_Ratio\"]\n",
    "#sales_df"
   ]
  },
  {
   "cell_type": "code",
   "execution_count": null,
   "id": "46df19c6-575b-4350-afc7-653bab1e6ea2",
   "metadata": {},
   "outputs": [],
   "source": []
  },
  {
   "cell_type": "code",
   "execution_count": null,
   "id": "7a6e1755-3178-4b0d-85d1-3e549bbb41a8",
   "metadata": {
    "scrolled": true
   },
   "outputs": [],
   "source": [
    "#grouped_df = (\n",
    "    df\n",
    "    .groupby([\"List Year\", \"Town\", \"Sale Price Group\"], observed=True)\n",
    "    .agg(\n",
    "        Avg_Sales_Ratio=(\"Sales Ratio\", \"mean\"),\n",
    "        Count_Sales=(\"Sales Ratio\", \"count\"),\n",
    "        Total_Sales_Amount=(\"Sale Amount\", \"sum\"),\n",
    "        Avg_Sale_Amount=(\"Sale Amount\", \"mean\")\n",
    "    )\n",
    "    .reset_index()\n",
    ")\n",
    "\n",
    "# Optional: sort results\n",
    "grouped_df = grouped_df.sort_values(\n",
    "    by=[\"Sale Price Group\", \"Avg_Sales_Ratio\"],\n",
    "    ascending=[True, False]\n",
    ")\n",
    "\n",
    "#grouped_df\n",
    "\n"
   ]
  },
  {
   "cell_type": "code",
   "execution_count": null,
   "id": "0d1c7a6d-0497-47c9-a6d4-a08ba3f45e53",
   "metadata": {},
   "outputs": [],
   "source": [
    "pd.set_option('display.float_format', '{:,.0f}'.format)\n"
   ]
  },
  {
   "cell_type": "code",
   "execution_count": null,
   "id": "bfce636c-d162-4942-be9b-385c3f654f18",
   "metadata": {},
   "outputs": [],
   "source": [
    "# 1️⃣ Make sure 'Sale Price Group' is categorical\n",
    "if not pd.api.types.is_categorical_dtype(df[\"Sale Price Group\"]):\n",
    "    df[\"Sale Price Group\"] = df[\"Sale Price Group\"].astype(\"category\")\n",
    "\n",
    "# 2️⃣ Add missing categories only if needed\n",
    "new_cats = [\"<300k\", \"300k-800k\", \"800k+\"]\n",
    "df[\"Sale Price Group\"] = df[\"Sale Price Group\"].cat.add_categories(\n",
    "    [c for c in new_cats if c not in df[\"Sale Price Group\"].cat.categories]\n",
    ")\n",
    "\n",
    "# 3️⃣ Groupby for stats\n",
    "base_stats = (\n",
    "    df.groupby([\"List Year\", \"Town\"], observed=True)\n",
    "      .agg(\n",
    "          Avg_Sale_Amount=(\"Sale Amount\", \"mean\"),\n",
    "          Count_Sales=(\"Sale Price Group\", \"count\"),\n",
    "          Avg_Sales_Ratio=(\"Sales Ratio\", \"mean\"),\n",
    "          Total_Sales=(\"Sale Amount\", \"sum\")\n",
    "      )\n",
    "      .reset_index()\n",
    ")\n",
    "\n",
    "# 4️⃣ Count per Sale Price Group\n",
    "count_per_group = (\n",
    "    df.groupby([\"List Year\", \"Town\", \"Sale Price Group\"], observed=True)\n",
    "      .size()\n",
    "      .reset_index(name=\"Count_Per_Group\")\n",
    ")\n",
    "\n",
    "# 5️⃣ Merge together\n",
    "result = base_stats.merge(count_per_group, on=[\"List Year\", \"Town\"], how=\"left\")\n",
    "\n"
   ]
  },
  {
   "cell_type": "code",
   "execution_count": null,
   "id": "55a96e6a-6b02-4d37-a912-7e747ce81181",
   "metadata": {
    "scrolled": true
   },
   "outputs": [],
   "source": [
    "result"
   ]
  },
  {
   "cell_type": "code",
   "execution_count": null,
   "id": "84c938fb-5746-4928-aeb0-e5dfe138aad2",
   "metadata": {},
   "outputs": [],
   "source": [
    "result.shape"
   ]
  },
  {
   "cell_type": "code",
   "execution_count": null,
   "id": "d3b21bab-f895-490d-9605-69f8ffe91c87",
   "metadata": {},
   "outputs": [],
   "source": [
    "result.to_csv(\"re_town_levels.csv\")"
   ]
  },
  {
   "cell_type": "code",
   "execution_count": null,
   "id": "f59aa6fd-d3ce-4500-85e7-a5907261c784",
   "metadata": {},
   "outputs": [],
   "source": []
  },
  {
   "cell_type": "code",
   "execution_count": 2,
   "id": "dc0a5358-cbe2-49a3-b08e-ecaf9fa15825",
   "metadata": {},
   "outputs": [
    {
     "name": "stdout",
     "output_type": "stream",
     "text": [
      "C:\\Users\\mrsmo\\Real Estate Sales Project\n"
     ]
    }
   ],
   "source": [
    "import os\n",
    "print(os.getcwd())"
   ]
  },
  {
   "cell_type": "code",
   "execution_count": null,
   "id": "307f7239-052d-40cd-8607-2a9de82c5e92",
   "metadata": {},
   "outputs": [],
   "source": [
    "\n"
   ]
  },
  {
   "cell_type": "code",
   "execution_count": null,
   "id": "59012981-2a8e-486a-8218-e6f4cd8db403",
   "metadata": {},
   "outputs": [],
   "source": []
  }
 ],
 "metadata": {
  "kernelspec": {
   "display_name": "Python [conda env:base] *",
   "language": "python",
   "name": "conda-base-py"
  },
  "language_info": {
   "codemirror_mode": {
    "name": "ipython",
    "version": 3
   },
   "file_extension": ".py",
   "mimetype": "text/x-python",
   "name": "python",
   "nbconvert_exporter": "python",
   "pygments_lexer": "ipython3",
   "version": "3.13.5"
  }
 },
 "nbformat": 4,
 "nbformat_minor": 5
}
